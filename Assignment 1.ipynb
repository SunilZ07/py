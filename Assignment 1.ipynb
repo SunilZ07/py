{
 "cells": [
  {
   "cell_type": "markdown",
   "metadata": {},
   "source": [
    "   # Assignment 1.\n"
   ]
  },
  {
   "cell_type": "markdown",
   "metadata": {},
   "source": [
    "## Task 1: "
   ]
  },
  {
   "cell_type": "code",
   "execution_count": 10,
   "metadata": {},
   "outputs": [
    {
     "name": "stdout",
     "output_type": "stream",
     "text": [
      "50\n"
     ]
    }
   ],
   "source": [
    "a=20\n",
    "b=30\n",
    "c=20 if a>b else 50\n",
    "print(c)"
   ]
  },
  {
   "cell_type": "code",
   "execution_count": 6,
   "metadata": {},
   "outputs": [],
   "source": [
    "# 2. Numbers which are divisible by 7 but are not multilple of 5:\n",
    "\n",
    "for i in range(2000,3201):\n",
    "    if (i%7==0):\n",
    "        if (i%5!=0):\n",
    "            print(i)\n",
    "        \n",
    "            "
   ]
  },
  {
   "cell_type": "code",
   "execution_count": 3,
   "metadata": {},
   "outputs": [
    {
     "name": "stdout",
     "output_type": "stream",
     "text": [
      "sunil\n",
      "maurya\n",
      "maurya  sunil\n"
     ]
    }
   ],
   "source": [
    "# 3.printing names in the reverse order:\n",
    "\n",
    "first_name=input()\n",
    "last_name=input()\n",
    "first_name+last_name\n",
    "print(last_name,\"\",first_name)\n"
   ]
  },
  {
   "cell_type": "code",
   "execution_count": 9,
   "metadata": {},
   "outputs": [
    {
     "name": "stdout",
     "output_type": "stream",
     "text": [
      "volume of a sphere is  904.3199999999999\n"
     ]
    }
   ],
   "source": [
    "# 4.finding volume of a sphere with diameter 12cm.\n",
    "\n",
    "diameter=12             # 12cm\n",
    "r=diameter/2       # radius 6 cm\n",
    "V=4/3*3.14*(r*r*r)   # V - volume of a sphere\n",
    "print(\"volume of a sphere is \",V)"
   ]
  },
  {
   "cell_type": "markdown",
   "metadata": {},
   "source": [
    "# # task 2."
   ]
  },
  {
   "cell_type": "code",
   "execution_count": 21,
   "metadata": {},
   "outputs": [
    {
     "name": "stdout",
     "output_type": "stream",
     "text": [
      "Enter the numbers:1,2,3,4,5\n",
      "['1', '2', '3', '4', '5']\n",
      "[1, 2, 3, 4, 5]\n"
     ]
    }
   ],
   "source": [
    "# 1. printing comma separated numbers in the form of a list:\n",
    "\n",
    "num=input(\"Enter the numbers:\")\n",
    "num1=num.split(\",\")\n",
    "print(num1)\n",
    "l1=[]\n",
    "for i in num1:\n",
    "    l1.append(int(i))\n",
    "print(l1)"
   ]
  },
  {
   "cell_type": "code",
   "execution_count": 28,
   "metadata": {},
   "outputs": [
    {
     "name": "stdout",
     "output_type": "stream",
     "text": [
      "*\n",
      "**\n",
      "***\n",
      "****\n",
      "*****\n",
      "****\n",
      "***\n",
      "**\n",
      "*\n",
      "\n"
     ]
    }
   ],
   "source": [
    "# 2.Creating patten\n",
    "\n",
    "for i in range(5):\n",
    "    for j in range(i+1):\n",
    "        print(\"*\",end=\"\")\n",
    "    print()\n",
    "for k in range(5):\n",
    "    print(\"*\"*(5-k-1))\n",
    "\n",
    "    "
   ]
  },
  {
   "cell_type": "code",
   "execution_count": 30,
   "metadata": {},
   "outputs": [
    {
     "name": "stdout",
     "output_type": "stream",
     "text": [
      "Enter word: sunil\n",
      "linus\n"
     ]
    }
   ],
   "source": [
    "# 3. Reversing the word after taking input from the user:\n",
    "user_input=input(\"Enter word: \")\n",
    "print(user_input[::-1])"
   ]
  },
  {
   "cell_type": "code",
   "execution_count": null,
   "metadata": {},
   "outputs": [],
   "source": []
  }
 ],
 "metadata": {
  "kernelspec": {
   "display_name": "Python 3",
   "language": "python",
   "name": "python3"
  },
  "language_info": {
   "codemirror_mode": {
    "name": "ipython",
    "version": 3
   },
   "file_extension": ".py",
   "mimetype": "text/x-python",
   "name": "python",
   "nbconvert_exporter": "python",
   "pygments_lexer": "ipython3",
   "version": "3.7.6"
  }
 },
 "nbformat": 4,
 "nbformat_minor": 4
}
